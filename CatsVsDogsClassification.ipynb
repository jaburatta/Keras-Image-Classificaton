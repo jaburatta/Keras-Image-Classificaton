{
  "nbformat": 4,
  "nbformat_minor": 0,
  "metadata": {
    "colab": {
      "name": "CatsVsDogsClassification.ipynb",
      "provenance": [],
      "collapsed_sections": []
    },
    "kernelspec": {
      "name": "python3",
      "display_name": "Python 3"
    }
  },
  "cells": [
    {
      "cell_type": "code",
      "metadata": {
        "id": "NmO5SNqjE93x",
        "colab_type": "code",
        "colab": {}
      },
      "source": [
        "# importing the necessary libraries\n",
        "import numpy as np\n",
        "import pandas as pd\n",
        "import matplotlib.pyplot as plt\n",
        "from matplotlib.image import imread\n",
        "import os "
      ],
      "execution_count": 1,
      "outputs": []
    },
    {
      "cell_type": "code",
      "metadata": {
        "id": "cROAUF18IAMa",
        "colab_type": "code",
        "colab": {}
      },
      "source": [
        "# Dataset path\n",
        "data_dir = \"/content/drive/My Drive/catsvsdogs\""
      ],
      "execution_count": 2,
      "outputs": []
    },
    {
      "cell_type": "code",
      "metadata": {
        "id": "k0T7Xt9UInDZ",
        "colab_type": "code",
        "colab": {
          "base_uri": "https://localhost:8080/",
          "height": 34
        },
        "outputId": "8c9ccda6-71fe-4b77-f7ab-535ae963d303"
      },
      "source": [
        "os.listdir(data_dir)"
      ],
      "execution_count": 3,
      "outputs": [
        {
          "output_type": "execute_result",
          "data": {
            "text/plain": [
              "['Test', 'Train']"
            ]
          },
          "metadata": {
            "tags": []
          },
          "execution_count": 3
        }
      ]
    },
    {
      "cell_type": "code",
      "metadata": {
        "id": "GLGF73kLGEhI",
        "colab_type": "code",
        "colab": {}
      },
      "source": [
        "Train_dir = data_dir + \"/Train/\"\n",
        "Test_dir = data_dir + \"/Test/\""
      ],
      "execution_count": 4,
      "outputs": []
    },
    {
      "cell_type": "code",
      "metadata": {
        "id": "ll2Y3SnSGkH2",
        "colab_type": "code",
        "colab": {
          "base_uri": "https://localhost:8080/",
          "height": 34
        },
        "outputId": "0b02401e-1926-464e-f0ad-83be0e649ceb"
      },
      "source": [
        "os.listdir(Train_dir)"
      ],
      "execution_count": 5,
      "outputs": [
        {
          "output_type": "execute_result",
          "data": {
            "text/plain": [
              "['Dog', 'Cat']"
            ]
          },
          "metadata": {
            "tags": []
          },
          "execution_count": 5
        }
      ]
    },
    {
      "cell_type": "code",
      "metadata": {
        "id": "iGU_VmcBGqlP",
        "colab_type": "code",
        "colab": {
          "base_uri": "https://localhost:8080/",
          "height": 34
        },
        "outputId": "6de01ee3-12b3-428f-8b57-1a3861e29303"
      },
      "source": [
        "os.listdir(Test_dir)"
      ],
      "execution_count": 6,
      "outputs": [
        {
          "output_type": "execute_result",
          "data": {
            "text/plain": [
              "['Dog', 'Cat']"
            ]
          },
          "metadata": {
            "tags": []
          },
          "execution_count": 6
        }
      ]
    },
    {
      "cell_type": "code",
      "metadata": {
        "id": "znOrKDuvHJDP",
        "colab_type": "code",
        "colab": {}
      },
      "source": [
        "dog_path = Train_dir + \"/Dog/\"\n",
        "dog_test = Test_dir + \"/Dog/\""
      ],
      "execution_count": 56,
      "outputs": []
    },
    {
      "cell_type": "code",
      "metadata": {
        "id": "PhPHXqDlCNyZ",
        "colab_type": "code",
        "colab": {}
      },
      "source": [
        "cat_path = Train_dir + \"/Cat/\"\n",
        "cat_test = Test_dir + \"/Cat/\""
      ],
      "execution_count": 57,
      "outputs": []
    },
    {
      "cell_type": "code",
      "metadata": {
        "id": "nwoZGIK3EVzk",
        "colab_type": "code",
        "colab": {
          "base_uri": "https://localhost:8080/",
          "height": 34
        },
        "outputId": "927a2968-074f-416f-d148-94b82999234e"
      },
      "source": [
        "cat_path+os.listdir(cat_path)[6576]"
      ],
      "execution_count": 19,
      "outputs": [
        {
          "output_type": "execute_result",
          "data": {
            "text/plain": [
              "'/content/drive/My Drive/catsvsdogs/Train//Cat/666.jpg'"
            ]
          },
          "metadata": {
            "tags": []
          },
          "execution_count": 19
        }
      ]
    },
    {
      "cell_type": "code",
      "metadata": {
        "id": "k5HJJo0jEDuM",
        "colab_type": "code",
        "colab": {
          "base_uri": "https://localhost:8080/",
          "height": 34
        },
        "outputId": "373e2775-9de7-426e-8949-1241542dbc18"
      },
      "source": [
        "# checking a cat sample details including file size represented by st_size\n",
        "os.stat(cat_path+os.listdir(cat_path)[6576])"
      ],
      "execution_count": 20,
      "outputs": [
        {
          "output_type": "execute_result",
          "data": {
            "text/plain": [
              "os.stat_result(st_mode=33152, st_ino=6624, st_dev=82, st_nlink=1, st_uid=0, st_gid=0, st_size=0, st_atime=1592937154, st_mtime=1592937148, st_ctime=1592937148)"
            ]
          },
          "metadata": {
            "tags": []
          },
          "execution_count": 20
        }
      ]
    },
    {
      "cell_type": "code",
      "metadata": {
        "id": "dBdjoYkyDSi6",
        "colab_type": "code",
        "colab": {
          "base_uri": "https://localhost:8080/",
          "height": 34
        },
        "outputId": "07d1372b-d283-46ac-8755-04f0e015006d"
      },
      "source": [
        "# checking file size \n",
        "os.stat(cat_path+os.listdir(cat_path)[6576]).st_size"
      ],
      "execution_count": 21,
      "outputs": [
        {
          "output_type": "execute_result",
          "data": {
            "text/plain": [
              "0"
            ]
          },
          "metadata": {
            "tags": []
          },
          "execution_count": 21
        }
      ]
    },
    {
      "cell_type": "code",
      "metadata": {
        "id": "3HSSvppdFtW4",
        "colab_type": "code",
        "colab": {}
      },
      "source": [
        "# remove file with 0 byte\n",
        "os.remove(cat_path+os.listdir(cat_path)[6576])"
      ],
      "execution_count": 22,
      "outputs": []
    },
    {
      "cell_type": "code",
      "metadata": {
        "id": "Gw2MfbF3G4qH",
        "colab_type": "code",
        "colab": {
          "base_uri": "https://localhost:8080/",
          "height": 34
        },
        "outputId": "e1c70a46-932a-429e-9f6e-3667d869a72c"
      },
      "source": [
        "# removing files less than 5 kb from  the dog  training dataset\n",
        "count = 0\n",
        "for image_filename in os.listdir(dog_path):\n",
        "  img = dog_path + image_filename\n",
        "  size = (os.stat(img).st_size)/1000\n",
        "  if size < 5:\n",
        "    count += 1\n",
        "    os.remove(img)   \n",
        "print(count)"
      ],
      "execution_count": 47,
      "outputs": [
        {
          "output_type": "stream",
          "text": [
            "148\n"
          ],
          "name": "stdout"
        }
      ]
    },
    {
      "cell_type": "code",
      "metadata": {
        "id": "7DZjd-rlG4lg",
        "colab_type": "code",
        "colab": {
          "base_uri": "https://localhost:8080/",
          "height": 34
        },
        "outputId": "4c19b72d-4fa7-4391-e1c1-750d1c7eb646"
      },
      "source": [
        "# removing files less than 5 kb from  the cat  training dataset\n",
        "count = 0\n",
        "for image_filename in os.listdir(cat_path):\n",
        "  img = cat_path + image_filename\n",
        "  size = (os.stat(img).st_size)/1000\n",
        "  if size < 5:\n",
        "    count += 1\n",
        "    os.remove(img)\n",
        "print(count)"
      ],
      "execution_count": 48,
      "outputs": [
        {
          "output_type": "stream",
          "text": [
            "152\n"
          ],
          "name": "stdout"
        }
      ]
    },
    {
      "cell_type": "code",
      "metadata": {
        "id": "nrETGlcrG4gb",
        "colab_type": "code",
        "colab": {
          "base_uri": "https://localhost:8080/",
          "height": 34
        },
        "outputId": "0174a4a2-ece9-4a4f-9a88-1b248ba89c6d"
      },
      "source": [
        "# removing files less than 5 kb from  the dog  test dataset\n",
        "count = 0\n",
        "for image_filename in os.listdir(dog_test):\n",
        "  img = dog_test + image_filename\n",
        "  size = (os.stat(img).st_size)/1000\n",
        "  if size < 5:\n",
        "    count += 1\n",
        "    os.remove(img)   \n",
        "print(count)"
      ],
      "execution_count": 59,
      "outputs": [
        {
          "output_type": "stream",
          "text": [
            "34\n"
          ],
          "name": "stdout"
        }
      ]
    },
    {
      "cell_type": "code",
      "metadata": {
        "id": "87_gMt_cG4aU",
        "colab_type": "code",
        "colab": {
          "base_uri": "https://localhost:8080/",
          "height": 34
        },
        "outputId": "73d98835-7785-48fd-e7fa-c45f859a5262"
      },
      "source": [
        "# removing files less than 5 kb from  the cat  test dataset\n",
        "count = 0\n",
        "for image_filename in os.listdir(cat_test):\n",
        "  img = cat_test + image_filename\n",
        "  size = (os.stat(img).st_size)/1000\n",
        "  if size < 5:\n",
        "    count += 1\n",
        "    os.remove(img)\n",
        "print(count)"
      ],
      "execution_count": 60,
      "outputs": [
        {
          "output_type": "stream",
          "text": [
            "35\n"
          ],
          "name": "stdout"
        }
      ]
    },
    {
      "cell_type": "code",
      "metadata": {
        "id": "ixLCSkvKAZQu",
        "colab_type": "code",
        "colab": {}
      },
      "source": [
        "#!pip install piexif"
      ],
      "execution_count": 49,
      "outputs": []
    },
    {
      "cell_type": "code",
      "metadata": {
        "id": "QoNExokALJHc",
        "colab_type": "code",
        "colab": {}
      },
      "source": [
        "#import piexif\n",
        "#x=0\n",
        "#for image_filename in os.listdir(Train_dir + \"/Dog\"):\n",
        "#  img = Train_dir + \"/Dog/\" + image_filename\n",
        "#  try:\n",
        "#    piexif.remove(img)\n",
        "#  except:\n",
        "#    x+=1\n",
        "#    os.remove(img)\n",
        "\n",
        "#print(x)"
      ],
      "execution_count": 23,
      "outputs": []
    },
    {
      "cell_type": "code",
      "metadata": {
        "id": "vr-VVUB-GMLe",
        "colab_type": "code",
        "colab": {}
      },
      "source": [
        "#import piexif\n",
        "#x=0\n",
        "#for image_filename in os.listdir(Train_dir + \"/Cat\"):\n",
        "#  img = Train_dir + \"/Cat/\" + image_filename\n",
        "#  try:\n",
        "#    piexif.remove(img)\n",
        "#  except:\n",
        "#    x+=1\n",
        "#    os.remove(img)\n",
        "\n",
        "#print(x)"
      ],
      "execution_count": 24,
      "outputs": []
    },
    {
      "cell_type": "code",
      "metadata": {
        "id": "yLKxEvMRMQIQ",
        "colab_type": "code",
        "colab": {}
      },
      "source": [
        "# checking data dimension or shape to select an average shape for the total dataset \n",
        "#dim1 = []\n",
        "#dim2 = []\n",
        "\n",
        "#for image_filename in os.listdir(Train_dir + \"/Dog\"):\n",
        "  \n",
        "#  img = imread(Train_dir + \"/Dog/\" + image_filename)\n",
        "#  height, width, color = img.shape\n",
        "#  dim1.append(width)\n",
        "#  dim2.append(height)"
      ],
      "execution_count": 8,
      "outputs": []
    },
    {
      "cell_type": "code",
      "metadata": {
        "id": "TS2cx7hibxxo",
        "colab_type": "code",
        "colab": {}
      },
      "source": [
        "#np.mean(dim1)"
      ],
      "execution_count": 9,
      "outputs": []
    },
    {
      "cell_type": "code",
      "metadata": {
        "id": "Kni8AJWWhCzB",
        "colab_type": "code",
        "colab": {}
      },
      "source": [
        "#np.mean(dim2)"
      ],
      "execution_count": 10,
      "outputs": []
    },
    {
      "cell_type": "code",
      "metadata": {
        "id": "2SP5SlrnhPpo",
        "colab_type": "code",
        "colab": {}
      },
      "source": [
        "# the mean dimension of the dataset is large so we resize\n",
        "\n",
        "img_shape = (70,70,3)"
      ],
      "execution_count": 50,
      "outputs": []
    },
    {
      "cell_type": "code",
      "metadata": {
        "id": "Bv1HGQfihiuI",
        "colab_type": "code",
        "colab": {}
      },
      "source": [
        "# data augmentation and preprocessing\n",
        "from tensorflow.keras.preprocessing.image import ImageDataGenerator"
      ],
      "execution_count": 51,
      "outputs": []
    },
    {
      "cell_type": "code",
      "metadata": {
        "id": "YLHeSYbeh2SS",
        "colab_type": "code",
        "colab": {}
      },
      "source": [
        "image_gen = ImageDataGenerator(rescale=1./255,rotation_range=10,zoom_range=0.2)"
      ],
      "execution_count": 52,
      "outputs": []
    },
    {
      "cell_type": "code",
      "metadata": {
        "id": "0mGX5Kghn3S8",
        "colab_type": "code",
        "colab": {
          "base_uri": "https://localhost:8080/",
          "height": 51
        },
        "outputId": "ea8f1ddd-a1d4-4dcc-8c43-43389f1f37e5"
      },
      "source": [
        "print(Train_dir)\n",
        "print(Test_dir)"
      ],
      "execution_count": 53,
      "outputs": [
        {
          "output_type": "stream",
          "text": [
            "/content/drive/My Drive/catsvsdogs/Train/\n",
            "/content/drive/My Drive/catsvsdogs/Test/\n"
          ],
          "name": "stdout"
        }
      ]
    },
    {
      "cell_type": "code",
      "metadata": {
        "id": "ID7NxOLYowSV",
        "colab_type": "code",
        "colab": {
          "base_uri": "https://localhost:8080/",
          "height": 51
        },
        "outputId": "230f991d-a6d9-4406-fa2e-4575553b7d63"
      },
      "source": [
        "# directing the data generator to the dataset path which must include sub-directories for the class of data to be trained \n",
        "image_gen.flow_from_directory(Train_dir)  "
      ],
      "execution_count": 54,
      "outputs": [
        {
          "output_type": "stream",
          "text": [
            "Found 19614 images belonging to 2 classes.\n"
          ],
          "name": "stdout"
        },
        {
          "output_type": "execute_result",
          "data": {
            "text/plain": [
              "<keras_preprocessing.image.directory_iterator.DirectoryIterator at 0x7f833cd80710>"
            ]
          },
          "metadata": {
            "tags": []
          },
          "execution_count": 54
        }
      ]
    },
    {
      "cell_type": "code",
      "metadata": {
        "id": "KTHFds5EpIMy",
        "colab_type": "code",
        "colab": {
          "base_uri": "https://localhost:8080/",
          "height": 51
        },
        "outputId": "286259ff-010f-459d-cf65-26bb36fa8b65"
      },
      "source": [
        "image_gen.flow_from_directory(Test_dir)"
      ],
      "execution_count": 61,
      "outputs": [
        {
          "output_type": "stream",
          "text": [
            "Found 4936 images belonging to 2 classes.\n"
          ],
          "name": "stdout"
        },
        {
          "output_type": "execute_result",
          "data": {
            "text/plain": [
              "<keras_preprocessing.image.directory_iterator.DirectoryIterator at 0x7f82f88bb2e8>"
            ]
          },
          "metadata": {
            "tags": []
          },
          "execution_count": 61
        }
      ]
    },
    {
      "cell_type": "code",
      "metadata": {
        "id": "jlhkx1ySpWc9",
        "colab_type": "code",
        "colab": {}
      },
      "source": [
        "# import sequential model\n",
        "from tensorflow.keras.models import Sequential"
      ],
      "execution_count": 62,
      "outputs": []
    },
    {
      "cell_type": "code",
      "metadata": {
        "id": "acVGS7_Lpx3y",
        "colab_type": "code",
        "colab": {}
      },
      "source": [
        "from tensorflow.keras.layers import Dense,Conv2D,MaxPool2D,Dropout,Flatten"
      ],
      "execution_count": 63,
      "outputs": []
    },
    {
      "cell_type": "code",
      "metadata": {
        "id": "wbtKO9gRqKKw",
        "colab_type": "code",
        "colab": {}
      },
      "source": [
        "# building the model architecture\n",
        "model = Sequential()\n",
        "\n",
        "model.add(Conv2D(filters=32,kernel_size=(4,4),input_shape=img_shape,activation=\"relu\" ))\n",
        "model.add(MaxPool2D(pool_size=(2,2)))\n",
        "\n",
        "model.add(Conv2D(filters=64,kernel_size=(4,4),input_shape=img_shape,activation=\"relu\" ))\n",
        "model.add(MaxPool2D(pool_size=(2,2)))\n",
        "\n",
        "model.add(Conv2D(filters=128,kernel_size=(4,4),input_shape=img_shape,activation=\"relu\" ))\n",
        "model.add(MaxPool2D(pool_size=(2,2)))\n",
        "\n",
        "model.add(Flatten())\n",
        "\n",
        "model.add(Dense(128, activation=\"relu\"))\n",
        "model.add(Dropout(0.5))\n",
        "\n",
        "model.add(Dense(1, activation=\"sigmoid\"))\n",
        "\n",
        "model.compile(loss='binary_crossentropy', optimizer='adam', metrics='accuracy')"
      ],
      "execution_count": 64,
      "outputs": []
    },
    {
      "cell_type": "code",
      "metadata": {
        "id": "-SIa9F85r5ry",
        "colab_type": "code",
        "colab": {
          "base_uri": "https://localhost:8080/",
          "height": 493
        },
        "outputId": "b36cdf01-7b41-44da-95ae-8da45db61171"
      },
      "source": [
        "model.summary()"
      ],
      "execution_count": 65,
      "outputs": [
        {
          "output_type": "stream",
          "text": [
            "Model: \"sequential\"\n",
            "_________________________________________________________________\n",
            "Layer (type)                 Output Shape              Param #   \n",
            "=================================================================\n",
            "conv2d (Conv2D)              (None, 67, 67, 32)        1568      \n",
            "_________________________________________________________________\n",
            "max_pooling2d (MaxPooling2D) (None, 33, 33, 32)        0         \n",
            "_________________________________________________________________\n",
            "conv2d_1 (Conv2D)            (None, 30, 30, 64)        32832     \n",
            "_________________________________________________________________\n",
            "max_pooling2d_1 (MaxPooling2 (None, 15, 15, 64)        0         \n",
            "_________________________________________________________________\n",
            "conv2d_2 (Conv2D)            (None, 12, 12, 128)       131200    \n",
            "_________________________________________________________________\n",
            "max_pooling2d_2 (MaxPooling2 (None, 6, 6, 128)         0         \n",
            "_________________________________________________________________\n",
            "flatten (Flatten)            (None, 4608)              0         \n",
            "_________________________________________________________________\n",
            "dense (Dense)                (None, 128)               589952    \n",
            "_________________________________________________________________\n",
            "dropout (Dropout)            (None, 128)               0         \n",
            "_________________________________________________________________\n",
            "dense_1 (Dense)              (None, 1)                 129       \n",
            "=================================================================\n",
            "Total params: 755,681\n",
            "Trainable params: 755,681\n",
            "Non-trainable params: 0\n",
            "_________________________________________________________________\n"
          ],
          "name": "stdout"
        }
      ]
    },
    {
      "cell_type": "code",
      "metadata": {
        "id": "zNYnMwOmr_zS",
        "colab_type": "code",
        "colab": {}
      },
      "source": [
        "# setting up early stopping to prevent overfitting \n",
        "from tensorflow.keras.callbacks import EarlyStopping"
      ],
      "execution_count": 66,
      "outputs": []
    },
    {
      "cell_type": "code",
      "metadata": {
        "id": "RtNog0qfsuzy",
        "colab_type": "code",
        "colab": {}
      },
      "source": [
        "early_stop = EarlyStopping(monitor='val_loss', patience=2)"
      ],
      "execution_count": 67,
      "outputs": []
    },
    {
      "cell_type": "code",
      "metadata": {
        "id": "h3i55DYws4ND",
        "colab_type": "code",
        "colab": {}
      },
      "source": [
        "batch_size = 16"
      ],
      "execution_count": 68,
      "outputs": []
    },
    {
      "cell_type": "code",
      "metadata": {
        "id": "WgXI5YCas7rB",
        "colab_type": "code",
        "colab": {
          "base_uri": "https://localhost:8080/",
          "height": 34
        },
        "outputId": "8674f949-8638-49a7-c0ce-fdf69ef7227d"
      },
      "source": [
        "# preprocess dataset using data generator and direct its path using flow from directory method\n",
        "train_image_gen = image_gen.flow_from_directory(Train_dir,\n",
        "                                                target_size=img_shape[:2],\n",
        "                                                color_mode='rgb',\n",
        "                                                batch_size=batch_size,\n",
        "                                                class_mode='binary')"
      ],
      "execution_count": 69,
      "outputs": [
        {
          "output_type": "stream",
          "text": [
            "Found 19614 images belonging to 2 classes.\n"
          ],
          "name": "stdout"
        }
      ]
    },
    {
      "cell_type": "code",
      "metadata": {
        "id": "ecfCyRNptGqG",
        "colab_type": "code",
        "colab": {
          "base_uri": "https://localhost:8080/",
          "height": 34
        },
        "outputId": "48b79b7e-2f07-4417-eb37-263300cf8ad9"
      },
      "source": [
        "test_image_gen = image_gen.flow_from_directory(Test_dir,\n",
        "                                                target_size=img_shape[:2],\n",
        "                                                color_mode='rgb',\n",
        "                                                batch_size=batch_size,\n",
        "                                                class_mode='binary',\n",
        "                                                shuffle=False)"
      ],
      "execution_count": 70,
      "outputs": [
        {
          "output_type": "stream",
          "text": [
            "Found 4936 images belonging to 2 classes.\n"
          ],
          "name": "stdout"
        }
      ]
    },
    {
      "cell_type": "code",
      "metadata": {
        "id": "DoQ_I-fztuo9",
        "colab_type": "code",
        "colab": {
          "base_uri": "https://localhost:8080/",
          "height": 34
        },
        "outputId": "e5d24d0e-55e8-4e51-8b60-b4b85fbd036e"
      },
      "source": [
        "# checking classes attached to the dataset\n",
        "train_image_gen.class_indices"
      ],
      "execution_count": 71,
      "outputs": [
        {
          "output_type": "execute_result",
          "data": {
            "text/plain": [
              "{'Cat': 0, 'Dog': 1}"
            ]
          },
          "metadata": {
            "tags": []
          },
          "execution_count": 71
        }
      ]
    },
    {
      "cell_type": "code",
      "metadata": {
        "id": "ZNx0BFkCtylG",
        "colab_type": "code",
        "colab": {
          "base_uri": "https://localhost:8080/",
          "height": 425
        },
        "outputId": "1e5bb2f9-d103-44e1-8dc3-cb4604a9fa5f"
      },
      "source": [
        "# Fitting a model to the dataset \n",
        "result = model.fit(train_image_gen,epochs=40,\n",
        "                             validation_data=test_image_gen,\n",
        "                             callbacks=[early_stop])"
      ],
      "execution_count": 72,
      "outputs": [
        {
          "output_type": "stream",
          "text": [
            "Epoch 1/40\n",
            "1226/1226 [==============================] - 16917s 14s/step - loss: 0.6714 - accuracy: 0.5800 - val_loss: 0.6467 - val_accuracy: 0.6319\n",
            "Epoch 2/40\n",
            "1226/1226 [==============================] - 350s 286ms/step - loss: 0.6101 - accuracy: 0.6691 - val_loss: 0.5679 - val_accuracy: 0.7046\n",
            "Epoch 3/40\n",
            "1226/1226 [==============================] - 342s 279ms/step - loss: 0.5498 - accuracy: 0.7205 - val_loss: 0.5205 - val_accuracy: 0.7445\n",
            "Epoch 4/40\n",
            "1226/1226 [==============================] - 350s 286ms/step - loss: 0.5024 - accuracy: 0.7574 - val_loss: 0.4814 - val_accuracy: 0.7634\n",
            "Epoch 5/40\n",
            "1226/1226 [==============================] - 351s 286ms/step - loss: 0.4715 - accuracy: 0.7759 - val_loss: 0.4448 - val_accuracy: 0.7857\n",
            "Epoch 6/40\n",
            "1226/1226 [==============================] - 346s 282ms/step - loss: 0.4354 - accuracy: 0.7996 - val_loss: 0.4476 - val_accuracy: 0.7881\n",
            "Epoch 7/40\n",
            "1226/1226 [==============================] - 350s 286ms/step - loss: 0.4176 - accuracy: 0.8107 - val_loss: 0.4140 - val_accuracy: 0.8132\n",
            "Epoch 8/40\n",
            "1226/1226 [==============================] - 349s 285ms/step - loss: 0.3930 - accuracy: 0.8222 - val_loss: 0.4154 - val_accuracy: 0.8059\n",
            "Epoch 9/40\n",
            "1226/1226 [==============================] - 349s 285ms/step - loss: 0.3763 - accuracy: 0.8320 - val_loss: 0.3967 - val_accuracy: 0.8227\n",
            "Epoch 10/40\n",
            "1226/1226 [==============================] - 347s 283ms/step - loss: 0.3621 - accuracy: 0.8405 - val_loss: 0.3894 - val_accuracy: 0.8288\n",
            "Epoch 11/40\n",
            "1226/1226 [==============================] - 350s 285ms/step - loss: 0.3493 - accuracy: 0.8455 - val_loss: 0.4053 - val_accuracy: 0.8150\n",
            "Epoch 12/40\n",
            "1226/1226 [==============================] - 351s 286ms/step - loss: 0.3382 - accuracy: 0.8510 - val_loss: 0.4335 - val_accuracy: 0.8090\n"
          ],
          "name": "stdout"
        }
      ]
    },
    {
      "cell_type": "code",
      "metadata": {
        "id": "1NhY09NWoksI",
        "colab_type": "code",
        "colab": {
          "base_uri": "https://localhost:8080/",
          "height": 421
        },
        "outputId": "35621f43-4a9a-4a9e-94e9-76b9f655f6ad"
      },
      "source": [
        "# model performance \n",
        "pd.DataFrame(model.history.history)"
      ],
      "execution_count": 75,
      "outputs": [
        {
          "output_type": "execute_result",
          "data": {
            "text/html": [
              "<div>\n",
              "<style scoped>\n",
              "    .dataframe tbody tr th:only-of-type {\n",
              "        vertical-align: middle;\n",
              "    }\n",
              "\n",
              "    .dataframe tbody tr th {\n",
              "        vertical-align: top;\n",
              "    }\n",
              "\n",
              "    .dataframe thead th {\n",
              "        text-align: right;\n",
              "    }\n",
              "</style>\n",
              "<table border=\"1\" class=\"dataframe\">\n",
              "  <thead>\n",
              "    <tr style=\"text-align: right;\">\n",
              "      <th></th>\n",
              "      <th>loss</th>\n",
              "      <th>accuracy</th>\n",
              "      <th>val_loss</th>\n",
              "      <th>val_accuracy</th>\n",
              "    </tr>\n",
              "  </thead>\n",
              "  <tbody>\n",
              "    <tr>\n",
              "      <th>0</th>\n",
              "      <td>0.671401</td>\n",
              "      <td>0.579994</td>\n",
              "      <td>0.646656</td>\n",
              "      <td>0.631888</td>\n",
              "    </tr>\n",
              "    <tr>\n",
              "      <th>1</th>\n",
              "      <td>0.610120</td>\n",
              "      <td>0.669114</td>\n",
              "      <td>0.567862</td>\n",
              "      <td>0.704619</td>\n",
              "    </tr>\n",
              "    <tr>\n",
              "      <th>2</th>\n",
              "      <td>0.549835</td>\n",
              "      <td>0.720506</td>\n",
              "      <td>0.520512</td>\n",
              "      <td>0.744530</td>\n",
              "    </tr>\n",
              "    <tr>\n",
              "      <th>3</th>\n",
              "      <td>0.502409</td>\n",
              "      <td>0.757418</td>\n",
              "      <td>0.481365</td>\n",
              "      <td>0.763371</td>\n",
              "    </tr>\n",
              "    <tr>\n",
              "      <th>4</th>\n",
              "      <td>0.471504</td>\n",
              "      <td>0.775925</td>\n",
              "      <td>0.444829</td>\n",
              "      <td>0.785656</td>\n",
              "    </tr>\n",
              "    <tr>\n",
              "      <th>5</th>\n",
              "      <td>0.435366</td>\n",
              "      <td>0.799582</td>\n",
              "      <td>0.447590</td>\n",
              "      <td>0.788088</td>\n",
              "    </tr>\n",
              "    <tr>\n",
              "      <th>6</th>\n",
              "      <td>0.417599</td>\n",
              "      <td>0.810696</td>\n",
              "      <td>0.413982</td>\n",
              "      <td>0.813209</td>\n",
              "    </tr>\n",
              "    <tr>\n",
              "      <th>7</th>\n",
              "      <td>0.393022</td>\n",
              "      <td>0.822168</td>\n",
              "      <td>0.415421</td>\n",
              "      <td>0.805916</td>\n",
              "    </tr>\n",
              "    <tr>\n",
              "      <th>8</th>\n",
              "      <td>0.376287</td>\n",
              "      <td>0.832008</td>\n",
              "      <td>0.396747</td>\n",
              "      <td>0.822731</td>\n",
              "    </tr>\n",
              "    <tr>\n",
              "      <th>9</th>\n",
              "      <td>0.362089</td>\n",
              "      <td>0.840471</td>\n",
              "      <td>0.389387</td>\n",
              "      <td>0.828809</td>\n",
              "    </tr>\n",
              "    <tr>\n",
              "      <th>10</th>\n",
              "      <td>0.349296</td>\n",
              "      <td>0.845468</td>\n",
              "      <td>0.405283</td>\n",
              "      <td>0.815032</td>\n",
              "    </tr>\n",
              "    <tr>\n",
              "      <th>11</th>\n",
              "      <td>0.338180</td>\n",
              "      <td>0.851025</td>\n",
              "      <td>0.433524</td>\n",
              "      <td>0.808955</td>\n",
              "    </tr>\n",
              "  </tbody>\n",
              "</table>\n",
              "</div>"
            ],
            "text/plain": [
              "        loss  accuracy  val_loss  val_accuracy\n",
              "0   0.671401  0.579994  0.646656      0.631888\n",
              "1   0.610120  0.669114  0.567862      0.704619\n",
              "2   0.549835  0.720506  0.520512      0.744530\n",
              "3   0.502409  0.757418  0.481365      0.763371\n",
              "4   0.471504  0.775925  0.444829      0.785656\n",
              "5   0.435366  0.799582  0.447590      0.788088\n",
              "6   0.417599  0.810696  0.413982      0.813209\n",
              "7   0.393022  0.822168  0.415421      0.805916\n",
              "8   0.376287  0.832008  0.396747      0.822731\n",
              "9   0.362089  0.840471  0.389387      0.828809\n",
              "10  0.349296  0.845468  0.405283      0.815032\n",
              "11  0.338180  0.851025  0.433524      0.808955"
            ]
          },
          "metadata": {
            "tags": []
          },
          "execution_count": 75
        }
      ]
    },
    {
      "cell_type": "code",
      "metadata": {
        "id": "duKsc8VDfryp",
        "colab_type": "code",
        "colab": {
          "base_uri": "https://localhost:8080/",
          "height": 105
        },
        "outputId": "b41640bb-fcbe-46e4-a902-e8fefec9acb0"
      },
      "source": [
        "model.save(\"/content/drive/My Drive/catsvsdogs\")"
      ],
      "execution_count": 76,
      "outputs": [
        {
          "output_type": "stream",
          "text": [
            "WARNING:tensorflow:From /usr/local/lib/python3.6/dist-packages/tensorflow/python/ops/resource_variable_ops.py:1817: calling BaseResourceVariable.__init__ (from tensorflow.python.ops.resource_variable_ops) with constraint is deprecated and will be removed in a future version.\n",
            "Instructions for updating:\n",
            "If using Keras pass *_constraint arguments to layers.\n",
            "INFO:tensorflow:Assets written to: /content/drive/My Drive/catsvsdogs/assets\n"
          ],
          "name": "stdout"
        }
      ]
    },
    {
      "cell_type": "code",
      "metadata": {
        "id": "gbmjI-YKhxvE",
        "colab_type": "code",
        "colab": {}
      },
      "source": [
        "# save trianed model\n",
        "model.save_weights(\"img_classification.h5\")"
      ],
      "execution_count": 82,
      "outputs": []
    },
    {
      "cell_type": "code",
      "metadata": {
        "id": "EwsReKGJiL4g",
        "colab_type": "code",
        "colab": {}
      },
      "source": [
        "model.save(\"catsvsdogs.h5\")"
      ],
      "execution_count": 83,
      "outputs": []
    },
    {
      "cell_type": "code",
      "metadata": {
        "id": "E7D0XYQyid4L",
        "colab_type": "code",
        "colab": {}
      },
      "source": [
        "from tensorflow.keras.models import load_model"
      ],
      "execution_count": 84,
      "outputs": []
    },
    {
      "cell_type": "code",
      "metadata": {
        "id": "c9ysHiielz04",
        "colab_type": "code",
        "colab": {}
      },
      "source": [
        "# load trained model\n",
        "model = load_model(\"catsvsdogs.h5\")"
      ],
      "execution_count": 86,
      "outputs": []
    },
    {
      "cell_type": "code",
      "metadata": {
        "id": "Zn55cVmCmAKl",
        "colab_type": "code",
        "colab": {
          "base_uri": "https://localhost:8080/",
          "height": 493
        },
        "outputId": "ddcfb771-f282-4c1f-c5b8-8c4a024a2e70"
      },
      "source": [
        "# check model summary to be sure model was correctly loaded \n",
        "model.summary()"
      ],
      "execution_count": 87,
      "outputs": [
        {
          "output_type": "stream",
          "text": [
            "Model: \"sequential\"\n",
            "_________________________________________________________________\n",
            "Layer (type)                 Output Shape              Param #   \n",
            "=================================================================\n",
            "conv2d (Conv2D)              (None, 67, 67, 32)        1568      \n",
            "_________________________________________________________________\n",
            "max_pooling2d (MaxPooling2D) (None, 33, 33, 32)        0         \n",
            "_________________________________________________________________\n",
            "conv2d_1 (Conv2D)            (None, 30, 30, 64)        32832     \n",
            "_________________________________________________________________\n",
            "max_pooling2d_1 (MaxPooling2 (None, 15, 15, 64)        0         \n",
            "_________________________________________________________________\n",
            "conv2d_2 (Conv2D)            (None, 12, 12, 128)       131200    \n",
            "_________________________________________________________________\n",
            "max_pooling2d_2 (MaxPooling2 (None, 6, 6, 128)         0         \n",
            "_________________________________________________________________\n",
            "flatten (Flatten)            (None, 4608)              0         \n",
            "_________________________________________________________________\n",
            "dense (Dense)                (None, 128)               589952    \n",
            "_________________________________________________________________\n",
            "dropout (Dropout)            (None, 128)               0         \n",
            "_________________________________________________________________\n",
            "dense_1 (Dense)              (None, 1)                 129       \n",
            "=================================================================\n",
            "Total params: 755,681\n",
            "Trainable params: 755,681\n",
            "Non-trainable params: 0\n",
            "_________________________________________________________________\n"
          ],
          "name": "stdout"
        }
      ]
    },
    {
      "cell_type": "code",
      "metadata": {
        "id": "VObwglXwmHCK",
        "colab_type": "code",
        "colab": {
          "base_uri": "https://localhost:8080/",
          "height": 51
        },
        "outputId": "7928952b-90f2-4d94-c607-9bc8ec90e524"
      },
      "source": [
        "# check model evaluation\n",
        "model.evaluate(test_image_gen)"
      ],
      "execution_count": 89,
      "outputs": [
        {
          "output_type": "stream",
          "text": [
            "309/309 [==============================] - 40s 129ms/step - loss: 0.4229 - accuracy: 0.8156\n"
          ],
          "name": "stdout"
        },
        {
          "output_type": "execute_result",
          "data": {
            "text/plain": [
              "[0.4229377806186676, 0.8156402111053467]"
            ]
          },
          "metadata": {
            "tags": []
          },
          "execution_count": 89
        }
      ]
    },
    {
      "cell_type": "code",
      "metadata": {
        "id": "IRctmh4hmXGY",
        "colab_type": "code",
        "colab": {}
      },
      "source": [
        "# check model prediction which will return class probability\n",
        "pred = model.predict(test_image_gen)"
      ],
      "execution_count": 90,
      "outputs": []
    },
    {
      "cell_type": "code",
      "metadata": {
        "id": "1fYNY8kkoUKV",
        "colab_type": "code",
        "colab": {}
      },
      "source": [
        "predictions = pred > 0.5"
      ],
      "execution_count": 95,
      "outputs": []
    },
    {
      "cell_type": "code",
      "metadata": {
        "id": "HmUXZiYQokEY",
        "colab_type": "code",
        "colab": {
          "base_uri": "https://localhost:8080/",
          "height": 136
        },
        "outputId": "2b67e7db-e7b1-4d7e-b0d3-e4144b368427"
      },
      "source": [
        "predictions"
      ],
      "execution_count": 96,
      "outputs": [
        {
          "output_type": "execute_result",
          "data": {
            "text/plain": [
              "array([[False],\n",
              "       [False],\n",
              "       [ True],\n",
              "       ...,\n",
              "       [ True],\n",
              "       [False],\n",
              "       [ True]])"
            ]
          },
          "metadata": {
            "tags": []
          },
          "execution_count": 96
        }
      ]
    },
    {
      "cell_type": "code",
      "metadata": {
        "id": "YptkSopIneBR",
        "colab_type": "code",
        "colab": {}
      },
      "source": [
        "from sklearn.metrics import classification_report,confusion_matrix"
      ],
      "execution_count": 91,
      "outputs": []
    },
    {
      "cell_type": "code",
      "metadata": {
        "id": "Y3uG7Ikbn8sR",
        "colab_type": "code",
        "colab": {
          "base_uri": "https://localhost:8080/",
          "height": 34
        },
        "outputId": "c700ea89-18a3-451c-cc9e-e0536d00d1e7"
      },
      "source": [
        "test_image_gen.classes"
      ],
      "execution_count": 92,
      "outputs": [
        {
          "output_type": "execute_result",
          "data": {
            "text/plain": [
              "array([0, 0, 0, ..., 1, 1, 1], dtype=int32)"
            ]
          },
          "metadata": {
            "tags": []
          },
          "execution_count": 92
        }
      ]
    },
    {
      "cell_type": "code",
      "metadata": {
        "id": "h932KCGjnyQs",
        "colab_type": "code",
        "colab": {
          "base_uri": "https://localhost:8080/",
          "height": 170
        },
        "outputId": "b7de6074-ae7d-4d14-b063-52c2d5866d58"
      },
      "source": [
        "print(classification_report(test_image_gen.classes, predictions))"
      ],
      "execution_count": 97,
      "outputs": [
        {
          "output_type": "stream",
          "text": [
            "              precision    recall  f1-score   support\n",
            "\n",
            "           0       0.77      0.90      0.83      2468\n",
            "           1       0.88      0.72      0.79      2468\n",
            "\n",
            "    accuracy                           0.81      4936\n",
            "   macro avg       0.82      0.81      0.81      4936\n",
            "weighted avg       0.82      0.81      0.81      4936\n",
            "\n"
          ],
          "name": "stdout"
        }
      ]
    },
    {
      "cell_type": "code",
      "metadata": {
        "id": "8gzel0Y8oENZ",
        "colab_type": "code",
        "colab": {
          "base_uri": "https://localhost:8080/",
          "height": 51
        },
        "outputId": "d5ea1ba0-59f8-4e24-9da2-942e0111315b"
      },
      "source": [
        "print(confusion_matrix(test_image_gen.classes,predictions))"
      ],
      "execution_count": 98,
      "outputs": [
        {
          "output_type": "stream",
          "text": [
            "[[2226  242]\n",
            " [ 681 1787]]\n"
          ],
          "name": "stdout"
        }
      ]
    },
    {
      "cell_type": "code",
      "metadata": {
        "id": "wmIa7_zso-CU",
        "colab_type": "code",
        "colab": {
          "base_uri": "https://localhost:8080/",
          "height": 34
        },
        "outputId": "024c1a86-9af6-4cbb-f018-b06787f2cdfa"
      },
      "source": [
        "# making predictions with our model\n",
        "\n",
        "dog_sample = dog_test + os.listdir(dog_test)[10]\n",
        "dog_sample"
      ],
      "execution_count": 103,
      "outputs": [
        {
          "output_type": "execute_result",
          "data": {
            "text/plain": [
              "'/content/drive/My Drive/catsvsdogs/Test//Dog/10147.jpg'"
            ]
          },
          "metadata": {
            "tags": []
          },
          "execution_count": 103
        }
      ]
    },
    {
      "cell_type": "code",
      "metadata": {
        "id": "bp1vec-rtaBU",
        "colab_type": "code",
        "colab": {
          "base_uri": "https://localhost:8080/",
          "height": 34
        },
        "outputId": "0d06307d-ac36-4fe8-92d1-bd070d82d281"
      },
      "source": [
        "# to be sure of our sample\n",
        "\n",
        "from tensorflow.keras.preprocessing import image\n",
        "\n",
        "# load and resize the sample image\n",
        "test_sample = image.load_img(dog_sample, target_size=(70,70))\n",
        "\n",
        "# scale the image\n",
        "img_array = image.img_to_array(test_sample)/255\n",
        "\n",
        "# bcos our model expect batches of images, we reshape our image to (1,70,70,3) format\n",
        "img_array = np.expand_dims(img_array, axis = 0)\n",
        "img_array.shape"
      ],
      "execution_count": 112,
      "outputs": [
        {
          "output_type": "execute_result",
          "data": {
            "text/plain": [
              "(1, 70, 70, 3)"
            ]
          },
          "metadata": {
            "tags": []
          },
          "execution_count": 112
        }
      ]
    },
    {
      "cell_type": "code",
      "metadata": {
        "id": "L_R0MnUQuKQ8",
        "colab_type": "code",
        "colab": {
          "base_uri": "https://localhost:8080/",
          "height": 34
        },
        "outputId": "a74db800-8b32-4fbe-b5ab-9baea6c35bf0"
      },
      "source": [
        "# since we have preprocessed our sample image, its time to predict\n",
        "\n",
        "model.predict(img_array)"
      ],
      "execution_count": 113,
      "outputs": [
        {
          "output_type": "execute_result",
          "data": {
            "text/plain": [
              "array([[0.59030205]], dtype=float32)"
            ]
          },
          "metadata": {
            "tags": []
          },
          "execution_count": 113
        }
      ]
    },
    {
      "cell_type": "code",
      "metadata": {
        "id": "s4ObTtCZvTnL",
        "colab_type": "code",
        "colab": {
          "base_uri": "https://localhost:8080/",
          "height": 34
        },
        "outputId": "b5ffbceb-ac09-4d86-937f-6925ab4c34d8"
      },
      "source": [
        "# Recall our class indices\n",
        "\n",
        "test_image_gen.class_indices"
      ],
      "execution_count": 114,
      "outputs": [
        {
          "output_type": "execute_result",
          "data": {
            "text/plain": [
              "{'Cat': 0, 'Dog': 1}"
            ]
          },
          "metadata": {
            "tags": []
          },
          "execution_count": 114
        }
      ]
    }
  ]
}